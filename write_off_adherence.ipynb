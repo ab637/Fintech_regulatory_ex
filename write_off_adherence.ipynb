{
 "cells": [
  {
   "cell_type": "markdown",
   "id": "0b952866",
   "metadata": {},
   "source": [
    "Testing that all the customer with dpd>180 are there in the write of register, if, not , then its a compliance amount, aslo finding the write off amount\n"
   ]
  },
  {
   "cell_type": "code",
   "execution_count": 1,
   "id": "694db653",
   "metadata": {},
   "outputs": [],
   "source": [
    "import numpy as np \n",
    "import pandas as pd \n",
    "import seaborn as sns \n",
    "import matplotlib as plt\n"
   ]
  },
  {
   "cell_type": "code",
   "execution_count": 3,
   "id": "2288f808",
   "metadata": {},
   "outputs": [
    {
     "data": {
      "text/html": [
       "<div>\n",
       "<style scoped>\n",
       "    .dataframe tbody tr th:only-of-type {\n",
       "        vertical-align: middle;\n",
       "    }\n",
       "\n",
       "    .dataframe tbody tr th {\n",
       "        vertical-align: top;\n",
       "    }\n",
       "\n",
       "    .dataframe thead th {\n",
       "        text-align: right;\n",
       "    }\n",
       "</style>\n",
       "<table border=\"1\" class=\"dataframe\">\n",
       "  <thead>\n",
       "    <tr style=\"text-align: right;\">\n",
       "      <th></th>\n",
       "      <th>Customer_ID</th>\n",
       "      <th>Loan_Amount</th>\n",
       "      <th>Disbursal_Date</th>\n",
       "      <th>Write_Off_Date</th>\n",
       "    </tr>\n",
       "  </thead>\n",
       "  <tbody>\n",
       "    <tr>\n",
       "      <th>0</th>\n",
       "      <td>CUST000026</td>\n",
       "      <td>157121</td>\n",
       "      <td>2024-11-16</td>\n",
       "      <td>2025-10-07</td>\n",
       "    </tr>\n",
       "    <tr>\n",
       "      <th>1</th>\n",
       "      <td>CUST000033</td>\n",
       "      <td>199763</td>\n",
       "      <td>2024-10-04</td>\n",
       "      <td>2025-10-01</td>\n",
       "    </tr>\n",
       "    <tr>\n",
       "      <th>2</th>\n",
       "      <td>CUST000035</td>\n",
       "      <td>195057</td>\n",
       "      <td>2024-09-25</td>\n",
       "      <td>2025-09-18</td>\n",
       "    </tr>\n",
       "    <tr>\n",
       "      <th>3</th>\n",
       "      <td>CUST000060</td>\n",
       "      <td>99403</td>\n",
       "      <td>2023-07-19</td>\n",
       "      <td>2024-12-24</td>\n",
       "    </tr>\n",
       "    <tr>\n",
       "      <th>4</th>\n",
       "      <td>CUST000074</td>\n",
       "      <td>149292</td>\n",
       "      <td>2024-12-28</td>\n",
       "      <td>2025-11-11</td>\n",
       "    </tr>\n",
       "  </tbody>\n",
       "</table>\n",
       "</div>"
      ],
      "text/plain": [
       "  Customer_ID  Loan_Amount Disbursal_Date Write_Off_Date\n",
       "0  CUST000026       157121     2024-11-16     2025-10-07\n",
       "1  CUST000033       199763     2024-10-04     2025-10-01\n",
       "2  CUST000035       195057     2024-09-25     2025-09-18\n",
       "3  CUST000060        99403     2023-07-19     2024-12-24\n",
       "4  CUST000074       149292     2024-12-28     2025-11-11"
      ]
     },
     "execution_count": 3,
     "metadata": {},
     "output_type": "execute_result"
    }
   ],
   "source": [
    "df = pd.read_csv('write_off_register.csv')\n",
    "df.head()"
   ]
  },
  {
   "cell_type": "code",
   "execution_count": 5,
   "id": "5b369517",
   "metadata": {},
   "outputs": [
    {
     "name": "stdout",
     "output_type": "stream",
     "text": [
      "106373.20256991686\n"
     ]
    }
   ],
   "source": [
    "average_write_off = df['Loan_Amount'].mean()\n",
    "\n",
    "print(average_write_off)"
   ]
  },
  {
   "cell_type": "code",
   "execution_count": null,
   "id": "9c1bc02c",
   "metadata": {},
   "outputs": [],
   "source": []
  },
  {
   "cell_type": "code",
   "execution_count": null,
   "id": "a7d20f67",
   "metadata": {},
   "outputs": [],
   "source": []
  },
  {
   "cell_type": "code",
   "execution_count": null,
   "id": "fe0dc6bc",
   "metadata": {},
   "outputs": [],
   "source": []
  },
  {
   "cell_type": "code",
   "execution_count": null,
   "id": "6b0e0478",
   "metadata": {},
   "outputs": [],
   "source": []
  },
  {
   "cell_type": "code",
   "execution_count": null,
   "id": "597ea1d7",
   "metadata": {},
   "outputs": [],
   "source": []
  },
  {
   "cell_type": "code",
   "execution_count": null,
   "id": "c4d146ad",
   "metadata": {},
   "outputs": [],
   "source": []
  },
  {
   "cell_type": "code",
   "execution_count": null,
   "id": "e8eeabf8",
   "metadata": {},
   "outputs": [],
   "source": []
  }
 ],
 "metadata": {
  "kernelspec": {
   "display_name": "base",
   "language": "python",
   "name": "python3"
  },
  "language_info": {
   "codemirror_mode": {
    "name": "ipython",
    "version": 3
   },
   "file_extension": ".py",
   "mimetype": "text/x-python",
   "name": "python",
   "nbconvert_exporter": "python",
   "pygments_lexer": "ipython3",
   "version": "3.12.4"
  }
 },
 "nbformat": 4,
 "nbformat_minor": 5
}
