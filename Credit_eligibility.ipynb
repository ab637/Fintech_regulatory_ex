{
 "cells": [
  {
   "cell_type": "code",
   "execution_count": 26,
   "id": "03ed9950",
   "metadata": {},
   "outputs": [],
   "source": [
    "import numpy as np \n",
    "import pandas as pd \n",
    "import seaborn as sns \n",
    "import matplotlib as plt\n"
   ]
  },
  {
   "cell_type": "code",
   "execution_count": 27,
   "metadata": {},
   "outputs": [
    {
     "data": {
      "text/html": [
       "<div>\n",
       "<style scoped>\n",
       "    .dataframe tbody tr th:only-of-type {\n",
       "        vertical-align: middle;\n",
       "    }\n",
       "\n",
       "    .dataframe tbody tr th {\n",
       "        vertical-align: top;\n",
       "    }\n",
       "\n",
       "    .dataframe thead th {\n",
       "        text-align: right;\n",
       "    }\n",
       "</style>\n",
       "<table border=\"1\" class=\"dataframe\">\n",
       "  <thead>\n",
       "    <tr style=\"text-align: right;\">\n",
       "      <th></th>\n",
       "      <th>Customer_ID</th>\n",
       "      <th>CIBIL_Score</th>\n",
       "      <th>Loan_Issued</th>\n",
       "      <th>Loan_Issue_Date</th>\n",
       "    </tr>\n",
       "  </thead>\n",
       "  <tbody>\n",
       "    <tr>\n",
       "      <th>0</th>\n",
       "      <td>Z000001</td>\n",
       "      <td>711</td>\n",
       "      <td>True</td>\n",
       "      <td>11-12-2024</td>\n",
       "    </tr>\n",
       "    <tr>\n",
       "      <th>1</th>\n",
       "      <td>Z000002</td>\n",
       "      <td>712</td>\n",
       "      <td>True</td>\n",
       "      <td>08-01-2025</td>\n",
       "    </tr>\n",
       "    <tr>\n",
       "      <th>2</th>\n",
       "      <td>Z000003</td>\n",
       "      <td>772</td>\n",
       "      <td>True</td>\n",
       "      <td>22-12-2024</td>\n",
       "    </tr>\n",
       "    <tr>\n",
       "      <th>3</th>\n",
       "      <td>Z000004</td>\n",
       "      <td>760</td>\n",
       "      <td>True</td>\n",
       "      <td>06-04-2024</td>\n",
       "    </tr>\n",
       "    <tr>\n",
       "      <th>4</th>\n",
       "      <td>Z000005</td>\n",
       "      <td>633</td>\n",
       "      <td>True</td>\n",
       "      <td>17-04-2024</td>\n",
       "    </tr>\n",
       "  </tbody>\n",
       "</table>\n",
       "</div>"
      ],
      "text/plain": [
       "  Customer_ID  CIBIL_Score  Loan_Issued Loan_Issue_Date\n",
       "0     Z000001          711         True      11-12-2024\n",
       "1     Z000002          712         True      08-01-2025\n",
       "2     Z000003          772         True      22-12-2024\n",
       "3     Z000004          760         True      06-04-2024\n",
       "4     Z000005          633         True      17-04-2024"
      ]
     },
     "execution_count": 27,
     "metadata": {},
     "output_type": "execute_result"
    }
   ],
   "source": [
    "LIF = pd.read_csv('Loan_issuance.csv')\n",
    "LIF.head()"
   ]
  },
  {
   "cell_type": "code",
   "execution_count": 28,
   "metadata": {},
   "outputs": [
    {
     "data": {
      "text/html": [
       "<div>\n",
       "<style scoped>\n",
       "    .dataframe tbody tr th:only-of-type {\n",
       "        vertical-align: middle;\n",
       "    }\n",
       "\n",
       "    .dataframe tbody tr th {\n",
       "        vertical-align: top;\n",
       "    }\n",
       "\n",
       "    .dataframe thead th {\n",
       "        text-align: right;\n",
       "    }\n",
       "</style>\n",
       "<table border=\"1\" class=\"dataframe\">\n",
       "  <thead>\n",
       "    <tr style=\"text-align: right;\">\n",
       "      <th></th>\n",
       "      <th>Customer_ID</th>\n",
       "      <th>CIBIL_Score</th>\n",
       "      <th>Loan_Issued</th>\n",
       "      <th>Loan_Issue_Date</th>\n",
       "      <th>CIBIL_ELIGIBLE</th>\n",
       "    </tr>\n",
       "  </thead>\n",
       "  <tbody>\n",
       "    <tr>\n",
       "      <th>30495</th>\n",
       "      <td>Z030496</td>\n",
       "      <td>659</td>\n",
       "      <td>True</td>\n",
       "      <td>25-07-2024</td>\n",
       "      <td>True</td>\n",
       "    </tr>\n",
       "    <tr>\n",
       "      <th>30496</th>\n",
       "      <td>Z030497</td>\n",
       "      <td>671</td>\n",
       "      <td>True</td>\n",
       "      <td>04-10-2024</td>\n",
       "      <td>True</td>\n",
       "    </tr>\n",
       "    <tr>\n",
       "      <th>30497</th>\n",
       "      <td>Z030498</td>\n",
       "      <td>632</td>\n",
       "      <td>True</td>\n",
       "      <td>08-02-2025</td>\n",
       "      <td>True</td>\n",
       "    </tr>\n",
       "    <tr>\n",
       "      <th>30498</th>\n",
       "      <td>Z030499</td>\n",
       "      <td>636</td>\n",
       "      <td>True</td>\n",
       "      <td>17-04-2024</td>\n",
       "      <td>True</td>\n",
       "    </tr>\n",
       "    <tr>\n",
       "      <th>30499</th>\n",
       "      <td>Z030500</td>\n",
       "      <td>710</td>\n",
       "      <td>True</td>\n",
       "      <td>04-02-2025</td>\n",
       "      <td>True</td>\n",
       "    </tr>\n",
       "  </tbody>\n",
       "</table>\n",
       "</div>"
      ],
      "text/plain": [
       "      Customer_ID  CIBIL_Score  Loan_Issued Loan_Issue_Date  CIBIL_ELIGIBLE\n",
       "30495     Z030496          659         True      25-07-2024            True\n",
       "30496     Z030497          671         True      04-10-2024            True\n",
       "30497     Z030498          632         True      08-02-2025            True\n",
       "30498     Z030499          636         True      17-04-2024            True\n",
       "30499     Z030500          710         True      04-02-2025            True"
      ]
     },
     "execution_count": 28,
     "metadata": {},
     "output_type": "execute_result"
    }
   ],
   "source": [
    "LIF['CIBIL_ELIGIBLE'] = LIF['CIBIL_Score']>= 575\n",
    "LIF.tail()"
   ]
  },
  {
   "cell_type": "code",
   "execution_count": 29,
   "id": "7cb77de2",
   "metadata": {},
   "outputs": [
    {
     "data": {
      "text/html": [
       "<div>\n",
       "<style scoped>\n",
       "    .dataframe tbody tr th:only-of-type {\n",
       "        vertical-align: middle;\n",
       "    }\n",
       "\n",
       "    .dataframe tbody tr th {\n",
       "        vertical-align: top;\n",
       "    }\n",
       "\n",
       "    .dataframe thead th {\n",
       "        text-align: right;\n",
       "    }\n",
       "</style>\n",
       "<table border=\"1\" class=\"dataframe\">\n",
       "  <thead>\n",
       "    <tr style=\"text-align: right;\">\n",
       "      <th></th>\n",
       "      <th>Customer_ID</th>\n",
       "      <th>CIBIL_Score</th>\n",
       "      <th>Loan_Issued</th>\n",
       "      <th>Loan_Issue_Date</th>\n",
       "      <th>CIBIL_ELIGIBLE</th>\n",
       "    </tr>\n",
       "  </thead>\n",
       "  <tbody>\n",
       "    <tr>\n",
       "      <th>0</th>\n",
       "      <td>Z000001</td>\n",
       "      <td>711</td>\n",
       "      <td>True</td>\n",
       "      <td>11-12-2024</td>\n",
       "      <td>True</td>\n",
       "    </tr>\n",
       "    <tr>\n",
       "      <th>1</th>\n",
       "      <td>Z000002</td>\n",
       "      <td>712</td>\n",
       "      <td>True</td>\n",
       "      <td>08-01-2025</td>\n",
       "      <td>True</td>\n",
       "    </tr>\n",
       "    <tr>\n",
       "      <th>2</th>\n",
       "      <td>Z000003</td>\n",
       "      <td>772</td>\n",
       "      <td>True</td>\n",
       "      <td>22-12-2024</td>\n",
       "      <td>True</td>\n",
       "    </tr>\n",
       "    <tr>\n",
       "      <th>3</th>\n",
       "      <td>Z000004</td>\n",
       "      <td>760</td>\n",
       "      <td>True</td>\n",
       "      <td>06-04-2024</td>\n",
       "      <td>True</td>\n",
       "    </tr>\n",
       "    <tr>\n",
       "      <th>4</th>\n",
       "      <td>Z000005</td>\n",
       "      <td>633</td>\n",
       "      <td>True</td>\n",
       "      <td>17-04-2024</td>\n",
       "      <td>True</td>\n",
       "    </tr>\n",
       "    <tr>\n",
       "      <th>...</th>\n",
       "      <td>...</td>\n",
       "      <td>...</td>\n",
       "      <td>...</td>\n",
       "      <td>...</td>\n",
       "      <td>...</td>\n",
       "    </tr>\n",
       "    <tr>\n",
       "      <th>30495</th>\n",
       "      <td>Z030496</td>\n",
       "      <td>659</td>\n",
       "      <td>True</td>\n",
       "      <td>25-07-2024</td>\n",
       "      <td>True</td>\n",
       "    </tr>\n",
       "    <tr>\n",
       "      <th>30496</th>\n",
       "      <td>Z030497</td>\n",
       "      <td>671</td>\n",
       "      <td>True</td>\n",
       "      <td>04-10-2024</td>\n",
       "      <td>True</td>\n",
       "    </tr>\n",
       "    <tr>\n",
       "      <th>30497</th>\n",
       "      <td>Z030498</td>\n",
       "      <td>632</td>\n",
       "      <td>True</td>\n",
       "      <td>08-02-2025</td>\n",
       "      <td>True</td>\n",
       "    </tr>\n",
       "    <tr>\n",
       "      <th>30498</th>\n",
       "      <td>Z030499</td>\n",
       "      <td>636</td>\n",
       "      <td>True</td>\n",
       "      <td>17-04-2024</td>\n",
       "      <td>True</td>\n",
       "    </tr>\n",
       "    <tr>\n",
       "      <th>30499</th>\n",
       "      <td>Z030500</td>\n",
       "      <td>710</td>\n",
       "      <td>True</td>\n",
       "      <td>04-02-2025</td>\n",
       "      <td>True</td>\n",
       "    </tr>\n",
       "  </tbody>\n",
       "</table>\n",
       "<p>30500 rows × 5 columns</p>\n",
       "</div>"
      ],
      "text/plain": [
       "      Customer_ID  CIBIL_Score  Loan_Issued Loan_Issue_Date  CIBIL_ELIGIBLE\n",
       "0         Z000001          711         True      11-12-2024            True\n",
       "1         Z000002          712         True      08-01-2025            True\n",
       "2         Z000003          772         True      22-12-2024            True\n",
       "3         Z000004          760         True      06-04-2024            True\n",
       "4         Z000005          633         True      17-04-2024            True\n",
       "...           ...          ...          ...             ...             ...\n",
       "30495     Z030496          659         True      25-07-2024            True\n",
       "30496     Z030497          671         True      04-10-2024            True\n",
       "30497     Z030498          632         True      08-02-2025            True\n",
       "30498     Z030499          636         True      17-04-2024            True\n",
       "30499     Z030500          710         True      04-02-2025            True\n",
       "\n",
       "[30500 rows x 5 columns]"
      ]
     },
     "execution_count": 29,
     "metadata": {},
     "output_type": "execute_result"
    }
   ],
   "source": [
    "LIF"
   ]
  },
  {
   "cell_type": "code",
   "execution_count": 30,
   "id": "5431e0e6",
   "metadata": {},
   "outputs": [
    {
     "data": {
      "text/plain": [
       "29045"
      ]
     },
     "execution_count": 30,
     "metadata": {},
     "output_type": "execute_result"
    }
   ],
   "source": [
    "total_customers = len(LIF)\n",
    "eligible = LIF[LIF['CIBIL_ELIGIBLE']==True].shape[0]\n",
    "percentage_eligible = (eligible/total_customers)*100\n",
    "percentage_eligible\n",
    "eligible"
   ]
  },
  {
   "cell_type": "code",
   "execution_count": 31,
   "id": "4662dc1a",
   "metadata": {},
   "outputs": [
    {
     "name": "stdout",
     "output_type": "stream",
     "text": [
      "95.22950819672131\n"
     ]
    }
   ],
   "source": [
    "print(percentage_eligible)"
   ]
  },
  {
   "cell_type": "markdown",
   "id": "90616f8e",
   "metadata": {},
   "source": [
    "Hence 95.22 % of the customer in the loan issue data base were eligible, rest were not, we can find the average cibil of the rejected application and show that we are complying to the rbi guidelines\n"
   ]
  },
  {
   "cell_type": "code",
   "execution_count": 32,
   "id": "73be945f",
   "metadata": {},
   "outputs": [],
   "source": [
    "non_eligible = LIF[LIF['CIBIL_ELIGIBLE']== False]\n",
    "average_cibil_non_eligible = non_eligible['CIBIL_Score'].mean()"
   ]
  },
  {
   "cell_type": "code",
   "execution_count": 33,
   "id": "e7f53c59",
   "metadata": {},
   "outputs": [
    {
     "name": "stdout",
     "output_type": "stream",
     "text": [
      "503.7725085910653\n"
     ]
    }
   ],
   "source": [
    "print(average_cibil_non_eligible)"
   ]
  },
  {
   "cell_type": "code",
   "execution_count": 37,
   "id": "661f8389",
   "metadata": {},
   "outputs": [],
   "source": [
    "#violation of the policy for the loan accounts\n",
    "violations = LIF[(LIF['CIBIL_Score']<575) & (LIF['Loan_Issued']== True)]"
   ]
  },
  {
   "cell_type": "code",
   "execution_count": 43,
   "id": "8ce63c77",
   "metadata": {},
   "outputs": [
    {
     "name": "stdout",
     "output_type": "stream",
     "text": [
      "      Customer_ID  CIBIL_Score  Loan_Issued Loan_Issue_Date  CIBIL_ELIGIBLE\n",
      "12        Z000013          491         True      08-10-2024           False\n",
      "24        Z000025          424         True      12-05-2024           False\n",
      "38        Z000039          546         True      11-09-2024           False\n",
      "70        Z000071          543         True      13-05-2024           False\n",
      "111       Z000112          569         True      09-02-2025           False\n",
      "...           ...          ...          ...             ...             ...\n",
      "30436     Z030437          535         True      16-03-2025           False\n",
      "30437     Z030438          536         True      19-08-2024           False\n",
      "30449     Z030450          306         True      22-01-2025           False\n",
      "30453     Z030454          308         True      22-05-2024           False\n",
      "30474     Z030475          564         True      08-02-2025           False\n",
      "\n",
      "[1455 rows x 5 columns]\n"
     ]
    }
   ],
   "source": [
    "\n",
    "print(violations)\n",
    "num_violation = len(violations)\n",
    "total_loan_issued = LIF[LIF['Loan_Issued']==True].shape[0]\n"
   ]
  },
  {
   "cell_type": "code",
   "execution_count": 44,
   "id": "08eb534c",
   "metadata": {},
   "outputs": [
    {
     "name": "stdout",
     "output_type": "stream",
     "text": [
      "4.770491803278689\n"
     ]
    }
   ],
   "source": [
    "violation_percentage = (num_violation/total_loan_issued)*100\n",
    "print(violation_percentage)"
   ]
  },
  {
   "cell_type": "markdown",
   "id": "1a1f4e57",
   "metadata": {},
   "source": [
    "4.7 % violation from the policy\n"
   ]
  }
 ],
 "metadata": {
  "kernelspec": {
   "display_name": "base",
   "language": "python",
   "name": "python3"
  },
  "language_info": {
   "codemirror_mode": {
    "name": "ipython",
    "version": 3
   },
   "file_extension": ".py",
   "mimetype": "text/x-python",
   "name": "python",
   "nbconvert_exporter": "python",
   "pygments_lexer": "ipython3",
   "version": "3.12.4"
  }
 },
 "nbformat": 4,
 "nbformat_minor": 5
}
