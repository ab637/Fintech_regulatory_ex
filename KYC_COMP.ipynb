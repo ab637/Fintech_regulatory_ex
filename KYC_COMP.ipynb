{
 "cells": [
  {
   "cell_type": "code",
   "execution_count": 2,
   "id": "03831971",
   "metadata": {},
   "outputs": [],
   "source": [
    "import numpy as np\n",
    "import pandas as pd\n"
   ]
  },
  {
   "cell_type": "code",
   "execution_count": null,
   "id": "15ce4eea",
   "metadata": {},
   "outputs": [
    {
     "data": {
      "text/html": [
       "<div>\n",
       "<style scoped>\n",
       "    .dataframe tbody tr th:only-of-type {\n",
       "        vertical-align: middle;\n",
       "    }\n",
       "\n",
       "    .dataframe tbody tr th {\n",
       "        vertical-align: top;\n",
       "    }\n",
       "\n",
       "    .dataframe thead th {\n",
       "        text-align: right;\n",
       "    }\n",
       "</style>\n",
       "<table border=\"1\" class=\"dataframe\">\n",
       "  <thead>\n",
       "    <tr style=\"text-align: right;\">\n",
       "      <th></th>\n",
       "      <th>Customer_ID</th>\n",
       "      <th>Onboarding_Date</th>\n",
       "      <th>KYC_Documents_Submitted</th>\n",
       "      <th>PAN_Number</th>\n",
       "      <th>Aadhaar_Number</th>\n",
       "    </tr>\n",
       "  </thead>\n",
       "  <tbody>\n",
       "    <tr>\n",
       "      <th>0</th>\n",
       "      <td>X000001</td>\n",
       "      <td>01-04-2024</td>\n",
       "      <td>PAN + Aadhaar</td>\n",
       "      <td>HVPGF7923K</td>\n",
       "      <td>2.228650e+11</td>\n",
       "    </tr>\n",
       "    <tr>\n",
       "      <th>1</th>\n",
       "      <td>X000002</td>\n",
       "      <td>01-04-2024</td>\n",
       "      <td>Passport</td>\n",
       "      <td>NaN</td>\n",
       "      <td>NaN</td>\n",
       "    </tr>\n",
       "    <tr>\n",
       "      <th>2</th>\n",
       "      <td>X000003</td>\n",
       "      <td>01-04-2024</td>\n",
       "      <td>PAN only</td>\n",
       "      <td>CMZRF3197T</td>\n",
       "      <td>NaN</td>\n",
       "    </tr>\n",
       "    <tr>\n",
       "      <th>3</th>\n",
       "      <td>X000004</td>\n",
       "      <td>01-04-2024</td>\n",
       "      <td>Aadhaar only</td>\n",
       "      <td>NaN</td>\n",
       "      <td>9.230770e+11</td>\n",
       "    </tr>\n",
       "    <tr>\n",
       "      <th>4</th>\n",
       "      <td>X000005</td>\n",
       "      <td>01-04-2024</td>\n",
       "      <td>PAN + Aadhaar</td>\n",
       "      <td>JPNNB1832A</td>\n",
       "      <td>5.979940e+11</td>\n",
       "    </tr>\n",
       "  </tbody>\n",
       "</table>\n",
       "</div>"
      ],
      "text/plain": [
       "  Customer_ID Onboarding_Date KYC_Documents_Submitted  PAN_Number  \\\n",
       "0     X000001      01-04-2024           PAN + Aadhaar  HVPGF7923K   \n",
       "1     X000002      01-04-2024                Passport         NaN   \n",
       "2     X000003      01-04-2024                PAN only  CMZRF3197T   \n",
       "3     X000004      01-04-2024            Aadhaar only         NaN   \n",
       "4     X000005      01-04-2024           PAN + Aadhaar  JPNNB1832A   \n",
       "\n",
       "   Aadhaar_Number  \n",
       "0    2.228650e+11  \n",
       "1             NaN  \n",
       "2             NaN  \n",
       "3    9.230770e+11  \n",
       "4    5.979940e+11  "
      ]
     },
     "execution_count": 3,
     "metadata": {},
     "output_type": "execute_result"
    }
   ],
   "source": [
    "df = pd.read_csv('customer_kyc_data.csv')\n",
    "df.head()\n",
    "\n"
   ]
  },
  {
   "cell_type": "code",
   "execution_count": 9,
   "id": "b959207d",
   "metadata": {},
   "outputs": [
    {
     "data": {
      "text/plain": [
       "<bound method Series.unique of 0        PAN + Aadhaar\n",
       "1             Passport\n",
       "2             PAN only\n",
       "3         Aadhaar only\n",
       "4        PAN + Aadhaar\n",
       "             ...      \n",
       "30495    PAN + Aadhaar\n",
       "30496         PAN only\n",
       "30497    PAN + Aadhaar\n",
       "30498    PAN + Aadhaar\n",
       "30499    PAN + Aadhaar\n",
       "Name: KYC_Documents_Submitted, Length: 30500, dtype: object>"
      ]
     },
     "execution_count": 9,
     "metadata": {},
     "output_type": "execute_result"
    }
   ],
   "source": [
    "df['KYC_Documents_Submitted'].unique"
   ]
  },
  {
   "cell_type": "code",
   "execution_count": null,
   "id": "5e5bd717",
   "metadata": {},
   "outputs": [],
   "source": []
  },
  {
   "cell_type": "code",
   "execution_count": null,
   "id": "20842747",
   "metadata": {},
   "outputs": [],
   "source": []
  },
  {
   "cell_type": "code",
   "execution_count": null,
   "id": "aee5451b",
   "metadata": {},
   "outputs": [],
   "source": []
  },
  {
   "cell_type": "code",
   "execution_count": null,
   "id": "d2ef298f",
   "metadata": {},
   "outputs": [],
   "source": []
  },
  {
   "cell_type": "code",
   "execution_count": null,
   "id": "a8dedd62",
   "metadata": {},
   "outputs": [],
   "source": []
  },
  {
   "cell_type": "code",
   "execution_count": null,
   "id": "3c6403a6",
   "metadata": {},
   "outputs": [],
   "source": []
  },
  {
   "cell_type": "code",
   "execution_count": null,
   "id": "1fc06ff0",
   "metadata": {},
   "outputs": [],
   "source": []
  },
  {
   "cell_type": "code",
   "execution_count": null,
   "id": "db59100b",
   "metadata": {},
   "outputs": [],
   "source": []
  }
 ],
 "metadata": {
  "kernelspec": {
   "display_name": "base",
   "language": "python",
   "name": "python3"
  },
  "language_info": {
   "codemirror_mode": {
    "name": "ipython",
    "version": 3
   },
   "file_extension": ".py",
   "mimetype": "text/x-python",
   "name": "python",
   "nbconvert_exporter": "python",
   "pygments_lexer": "ipython3",
   "version": "3.12.4"
  }
 },
 "nbformat": 4,
 "nbformat_minor": 5
}
