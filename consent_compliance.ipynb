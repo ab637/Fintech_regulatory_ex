{
 "cells": [
  {
   "cell_type": "code",
   "execution_count": null,
   "id": "9b11dabe",
   "metadata": {},
   "outputs": [],
   "source": []
  },
  {
   "cell_type": "code",
   "execution_count": 1,
   "id": "8d8e7e93",
   "metadata": {},
   "outputs": [
    {
     "name": "stdout",
     "output_type": "stream",
     "text": [
      "Total accounts checked for consent: 30500\n",
      "Accounts without valid consent: 924\n",
      "Consent violation rate: 3.03%\n"
     ]
    }
   ],
   "source": [
    "import pandas as pd\n",
    "\n",
    "# Load consent dataset\n",
    "consent_df = pd.read_csv('customer_consent_log.csv')\n",
    "\n",
    "# Flag missing or false consent\n",
    "consent_df['Consent_Violation'] = (consent_df['Consent_Checked'] == False) | (consent_df['Consent_Timestamp'].isnull())\n",
    "\n",
    "# Count total and violations\n",
    "total_customers = len(consent_df)\n",
    "violations = consent_df['Consent_Violation'].sum()\n",
    "violation_percent = (violations / total_customers) * 100\n",
    "\n",
    "# Output\n",
    "print(f\"Total accounts checked for consent: {total_customers}\")\n",
    "print(f\"Accounts without valid consent: {violations}\")\n",
    "print(f\"Consent violation rate: {violation_percent:.2f}%\")"
   ]
  },
  {
   "cell_type": "code",
   "execution_count": null,
   "id": "66b73051",
   "metadata": {},
   "outputs": [],
   "source": []
  },
  {
   "cell_type": "code",
   "execution_count": null,
   "id": "d69b358b",
   "metadata": {},
   "outputs": [],
   "source": []
  },
  {
   "cell_type": "code",
   "execution_count": null,
   "id": "95599833",
   "metadata": {},
   "outputs": [],
   "source": []
  },
  {
   "cell_type": "code",
   "execution_count": null,
   "id": "b8eded21",
   "metadata": {},
   "outputs": [],
   "source": []
  },
  {
   "cell_type": "code",
   "execution_count": null,
   "id": "4be721de",
   "metadata": {},
   "outputs": [],
   "source": []
  },
  {
   "cell_type": "code",
   "execution_count": null,
   "id": "db3c4821",
   "metadata": {},
   "outputs": [],
   "source": []
  },
  {
   "cell_type": "code",
   "execution_count": null,
   "id": "d5a6997f",
   "metadata": {},
   "outputs": [],
   "source": []
  },
  {
   "cell_type": "code",
   "execution_count": null,
   "id": "e454c2e1",
   "metadata": {},
   "outputs": [],
   "source": []
  }
 ],
 "metadata": {
  "kernelspec": {
   "display_name": "base",
   "language": "python",
   "name": "python3"
  },
  "language_info": {
   "codemirror_mode": {
    "name": "ipython",
    "version": 3
   },
   "file_extension": ".py",
   "mimetype": "text/x-python",
   "name": "python",
   "nbconvert_exporter": "python",
   "pygments_lexer": "ipython3",
   "version": "3.12.4"
  }
 },
 "nbformat": 4,
 "nbformat_minor": 5
}
