{
 "cells": [
  {
   "cell_type": "code",
   "execution_count": 1,
   "id": "ad3aeddd",
   "metadata": {},
   "outputs": [],
   "source": [
    "import pandas as pd\n",
    "import numpy as np\n"
   ]
  },
  {
   "cell_type": "code",
   "execution_count": 2,
   "id": "a6d99bef",
   "metadata": {},
   "outputs": [
    {
     "data": {
      "text/html": [
       "<div>\n",
       "<style scoped>\n",
       "    .dataframe tbody tr th:only-of-type {\n",
       "        vertical-align: middle;\n",
       "    }\n",
       "\n",
       "    .dataframe tbody tr th {\n",
       "        vertical-align: top;\n",
       "    }\n",
       "\n",
       "    .dataframe thead th {\n",
       "        text-align: right;\n",
       "    }\n",
       "</style>\n",
       "<table border=\"1\" class=\"dataframe\">\n",
       "  <thead>\n",
       "    <tr style=\"text-align: right;\">\n",
       "      <th></th>\n",
       "      <th>Customer_ID</th>\n",
       "      <th>APR</th>\n",
       "      <th>Loan_Approval_Month</th>\n",
       "    </tr>\n",
       "  </thead>\n",
       "  <tbody>\n",
       "    <tr>\n",
       "      <th>0</th>\n",
       "      <td>W000001</td>\n",
       "      <td>38.28</td>\n",
       "      <td>Apr-24</td>\n",
       "    </tr>\n",
       "    <tr>\n",
       "      <th>1</th>\n",
       "      <td>W000002</td>\n",
       "      <td>37.53</td>\n",
       "      <td>Oct-24</td>\n",
       "    </tr>\n",
       "    <tr>\n",
       "      <th>2</th>\n",
       "      <td>W000003</td>\n",
       "      <td>29.08</td>\n",
       "      <td>Nov-24</td>\n",
       "    </tr>\n",
       "    <tr>\n",
       "      <th>3</th>\n",
       "      <td>W000004</td>\n",
       "      <td>30.43</td>\n",
       "      <td>Aug-24</td>\n",
       "    </tr>\n",
       "    <tr>\n",
       "      <th>4</th>\n",
       "      <td>W000005</td>\n",
       "      <td>26.03</td>\n",
       "      <td>Nov-24</td>\n",
       "    </tr>\n",
       "    <tr>\n",
       "      <th>5</th>\n",
       "      <td>W000006</td>\n",
       "      <td>25.32</td>\n",
       "      <td>Jul-24</td>\n",
       "    </tr>\n",
       "    <tr>\n",
       "      <th>6</th>\n",
       "      <td>W000007</td>\n",
       "      <td>25.08</td>\n",
       "      <td>Nov-24</td>\n",
       "    </tr>\n",
       "    <tr>\n",
       "      <th>7</th>\n",
       "      <td>W000008</td>\n",
       "      <td>27.95</td>\n",
       "      <td>Feb-25</td>\n",
       "    </tr>\n",
       "    <tr>\n",
       "      <th>8</th>\n",
       "      <td>W000009</td>\n",
       "      <td>27.79</td>\n",
       "      <td>Jun-24</td>\n",
       "    </tr>\n",
       "    <tr>\n",
       "      <th>9</th>\n",
       "      <td>W000010</td>\n",
       "      <td>30.96</td>\n",
       "      <td>Oct-24</td>\n",
       "    </tr>\n",
       "  </tbody>\n",
       "</table>\n",
       "</div>"
      ],
      "text/plain": [
       "  Customer_ID    APR Loan_Approval_Month\n",
       "0     W000001  38.28              Apr-24\n",
       "1     W000002  37.53              Oct-24\n",
       "2     W000003  29.08              Nov-24\n",
       "3     W000004  30.43              Aug-24\n",
       "4     W000005  26.03              Nov-24\n",
       "5     W000006  25.32              Jul-24\n",
       "6     W000007  25.08              Nov-24\n",
       "7     W000008  27.95              Feb-25\n",
       "8     W000009  27.79              Jun-24\n",
       "9     W000010  30.96              Oct-24"
      ]
     },
     "execution_count": 2,
     "metadata": {},
     "output_type": "execute_result"
    }
   ],
   "source": [
    "df = pd.read_csv('customer_pricing_data.csv')\n",
    "df.head(10)"
   ]
  },
  {
   "cell_type": "code",
   "execution_count": 3,
   "id": "19c8e9fa",
   "metadata": {},
   "outputs": [],
   "source": [
    "# ADDING THE APR COMPLIANT FLAG\n",
    "df['APR_COMPLIANT'] = df['APR'].between(18.0, 40.0)\n",
    "# COUNTING THE VIOLATIONS \n",
    "apr_violations = df[df['APR_COMPLIANT']== False]\n",
    "num_of_vioaltion = len(apr_violations)\n",
    "total_loans = len(df)\n",
    "violation_percentage = (num_of_vioaltion/total_loans)*100\n",
    "\n"
   ]
  },
  {
   "cell_type": "code",
   "execution_count": 4,
   "id": "d3dbe2e9",
   "metadata": {},
   "outputs": [
    {
     "name": "stdout",
     "output_type": "stream",
     "text": [
      "APR Violaitons count 152\n",
      "Violtion percent 0.4983606557377049\n"
     ]
    }
   ],
   "source": [
    "print(\"APR Violaitons count\", num_of_vioaltion)\n",
    "print(\"Violtion percent\", violation_percentage)"
   ]
  },
  {
   "cell_type": "code",
   "execution_count": null,
   "id": "be27669d",
   "metadata": {},
   "outputs": [],
   "source": []
  },
  {
   "cell_type": "code",
   "execution_count": null,
   "id": "86090798",
   "metadata": {},
   "outputs": [],
   "source": []
  },
  {
   "cell_type": "code",
   "execution_count": null,
   "id": "77f2132d",
   "metadata": {},
   "outputs": [],
   "source": []
  },
  {
   "cell_type": "code",
   "execution_count": null,
   "id": "62a6c4fc",
   "metadata": {},
   "outputs": [],
   "source": []
  },
  {
   "cell_type": "code",
   "execution_count": null,
   "id": "4a970328",
   "metadata": {},
   "outputs": [],
   "source": []
  },
  {
   "cell_type": "code",
   "execution_count": null,
   "id": "c6f3ed72",
   "metadata": {},
   "outputs": [],
   "source": []
  },
  {
   "cell_type": "code",
   "execution_count": null,
   "id": "c5c11a13",
   "metadata": {},
   "outputs": [],
   "source": []
  },
  {
   "cell_type": "code",
   "execution_count": null,
   "id": "dbb04eee",
   "metadata": {},
   "outputs": [],
   "source": []
  }
 ],
 "metadata": {
  "kernelspec": {
   "display_name": "base",
   "language": "python",
   "name": "python3"
  },
  "language_info": {
   "codemirror_mode": {
    "name": "ipython",
    "version": 3
   },
   "file_extension": ".py",
   "mimetype": "text/x-python",
   "name": "python",
   "nbconvert_exporter": "python",
   "pygments_lexer": "ipython3",
   "version": "3.12.4"
  }
 },
 "nbformat": 4,
 "nbformat_minor": 5
}
